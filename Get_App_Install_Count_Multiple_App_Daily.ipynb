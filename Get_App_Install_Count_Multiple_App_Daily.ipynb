{
  "nbformat": 4,
  "nbformat_minor": 0,
  "metadata": {
    "colab": {
      "provenance": [],
      "include_colab_link": true
    },
    "kernelspec": {
      "name": "python3",
      "display_name": "Python 3"
    },
    "language_info": {
      "name": "python"
    }
  },
  "cells": [
    {
      "cell_type": "markdown",
      "metadata": {
        "id": "view-in-github",
        "colab_type": "text"
      },
      "source": [
        "<a href=\"https://colab.research.google.com/github/g10drasingh/Bulk-Excel-File-lock/blob/main/Get_App_Install_Count_Multiple_App_Daily.ipynb\" target=\"_parent\"><img src=\"https://colab.research.google.com/assets/colab-badge.svg\" alt=\"Open In Colab\"/></a>"
      ]
    },
    {
      "cell_type": "code",
      "execution_count": 1,
      "metadata": {
        "id": "_wjpbKyteBaV"
      },
      "outputs": [],
      "source": [
        "!pip install -q google-play-scraper #Scraping Reviews\n",
        "#install Google Play Scraper"
      ]
    },
    {
      "cell_type": "code",
      "source": [
        "!pip install pyyaml #sort Data"
      ],
      "metadata": {
        "id": "n5509nDBvwGB",
        "colab": {
          "base_uri": "https://localhost:8080/"
        },
        "outputId": "3ba46622-5630-4b28-880e-ed4b201b50a1"
      },
      "execution_count": 2,
      "outputs": [
        {
          "output_type": "stream",
          "name": "stdout",
          "text": [
            "Requirement already satisfied: pyyaml in /usr/local/lib/python3.10/dist-packages (6.0.1)\n"
          ]
        }
      ]
    },
    {
      "cell_type": "markdown",
      "source": [
        "# Install Dependency"
      ],
      "metadata": {
        "id": "e-hafaOASX_s"
      }
    },
    {
      "cell_type": "markdown",
      "source": [
        "# Get All Reviews"
      ],
      "metadata": {
        "id": "nMBoZke1S6ND"
      }
    },
    {
      "cell_type": "code",
      "source": [
        "import pandas as pd\n",
        "import numpy as np\n",
        "from google_play_scraper import app, Sort, reviews_all\n",
        "import plotly.express as px"
      ],
      "metadata": {
        "id": "W7uyOS2Iwt4r"
      },
      "execution_count": 45,
      "outputs": []
    },
    {
      "cell_type": "markdown",
      "source": [
        "Select one or many app"
      ],
      "metadata": {
        "id": "pPCGF9Hul9AK"
      }
    },
    {
      "cell_type": "code",
      "source": [
        "# List of app IDs\n",
        "app_ids = ['com.buddhaair.hr','software.mdev.bookstracker','com.khalti','com.shirantech.buddhaair', 'com.f1soft.esewa', 'com.swifttechnology.imepay', 'com.mobile.smartcard'] #(, 'com.f1soft.esewa', 'com.swifttechnology.imepay', 'com.mobile.smartcard')use this to add multiple apps\n",
        "\n",
        "# Initialize an empty DataFrame to store results\n",
        "app_details_list = []"
      ],
      "metadata": {
        "id": "V1Oyqr_Ul7Yn"
      },
      "execution_count": 46,
      "outputs": []
    },
    {
      "cell_type": "code",
      "source": [
        "# Loop through each app ID\n",
        "for app_id in app_ids:\n",
        "    # Get App Details for the current app ID\n",
        "    app_detail = app(\n",
        "        app_id,\n",
        "        lang='ne',  # defaults to 'en'\n",
        "        country='np',  # defaults to 'us'\n",
        "    )\n",
        "    # Append the selected app details to the list\n",
        "    selected_details = {\n",
        "        'title': app_detail['title'],\n",
        "        'installs': app_detail['installs'],\n",
        "        #'minInstalls': app_detail['minInstalls'],\n",
        "        'realInstalls': app_detail.get('realInstalls', None),\n",
        "        #'score': app_detail['score'],\n",
        "        #'ratings': app_detail['ratings'],\n",
        "        #'reviews': app_detail['reviews'],\n",
        "    }\n",
        "\n",
        "    app_details_list.append(selected_details)"
      ],
      "metadata": {
        "id": "uaPowJ0ww9ZK"
      },
      "execution_count": 47,
      "outputs": []
    },
    {
      "cell_type": "code",
      "source": [
        "# Convert the list of dictionaries to a DataFrame\n",
        "df = pd.DataFrame(app_details_list)"
      ],
      "metadata": {
        "id": "IKnT_HvQy_DB"
      },
      "execution_count": 48,
      "outputs": []
    },
    {
      "cell_type": "code",
      "source": [
        "df=df.T\n",
        "df.head()\n",
        "#Show Result"
      ],
      "metadata": {
        "id": "XTiExjm1DGJz",
        "colab": {
          "base_uri": "https://localhost:8080/",
          "height": 215
        },
        "outputId": "d1791c7d-7ae8-461d-a154-d29a22f6af8f"
      },
      "execution_count": 49,
      "outputs": [
        {
          "output_type": "execute_result",
          "data": {
            "text/plain": [
              "                         0          1                              2  \\\n",
              "title         BHA Connects  Openreads  Khalti Digital Wallet (Nepal)   \n",
              "installs            १,०००+     ५,०००+                     १,०००,०००+   \n",
              "realInstalls          1350       9519                        4539525   \n",
              "\n",
              "                       3                              4  \\\n",
              "title         Buddha Air  eSewa - Mobile Wallet (Nepal)   \n",
              "installs        १००,०००+                     ५,०००,०००+   \n",
              "realInstalls      313720                        9594614   \n",
              "\n",
              "                                           5         6  \n",
              "title         IME Pay- Mobile Digital Wallet     MyPay  \n",
              "installs                          १,०००,०००+  ५००,०००+  \n",
              "realInstalls                         4183728    743864  "
            ],
            "text/html": [
              "\n",
              "  <div id=\"df-7e8477de-15fb-49ec-9a26-594e0b726017\" class=\"colab-df-container\">\n",
              "    <div>\n",
              "<style scoped>\n",
              "    .dataframe tbody tr th:only-of-type {\n",
              "        vertical-align: middle;\n",
              "    }\n",
              "\n",
              "    .dataframe tbody tr th {\n",
              "        vertical-align: top;\n",
              "    }\n",
              "\n",
              "    .dataframe thead th {\n",
              "        text-align: right;\n",
              "    }\n",
              "</style>\n",
              "<table border=\"1\" class=\"dataframe\">\n",
              "  <thead>\n",
              "    <tr style=\"text-align: right;\">\n",
              "      <th></th>\n",
              "      <th>0</th>\n",
              "      <th>1</th>\n",
              "      <th>2</th>\n",
              "      <th>3</th>\n",
              "      <th>4</th>\n",
              "      <th>5</th>\n",
              "      <th>6</th>\n",
              "    </tr>\n",
              "  </thead>\n",
              "  <tbody>\n",
              "    <tr>\n",
              "      <th>title</th>\n",
              "      <td>BHA Connects</td>\n",
              "      <td>Openreads</td>\n",
              "      <td>Khalti Digital Wallet (Nepal)</td>\n",
              "      <td>Buddha Air</td>\n",
              "      <td>eSewa - Mobile Wallet (Nepal)</td>\n",
              "      <td>IME Pay- Mobile Digital Wallet</td>\n",
              "      <td>MyPay</td>\n",
              "    </tr>\n",
              "    <tr>\n",
              "      <th>installs</th>\n",
              "      <td>१,०००+</td>\n",
              "      <td>५,०००+</td>\n",
              "      <td>१,०००,०००+</td>\n",
              "      <td>१००,०००+</td>\n",
              "      <td>५,०००,०००+</td>\n",
              "      <td>१,०००,०००+</td>\n",
              "      <td>५००,०००+</td>\n",
              "    </tr>\n",
              "    <tr>\n",
              "      <th>realInstalls</th>\n",
              "      <td>1350</td>\n",
              "      <td>9519</td>\n",
              "      <td>4539525</td>\n",
              "      <td>313720</td>\n",
              "      <td>9594614</td>\n",
              "      <td>4183728</td>\n",
              "      <td>743864</td>\n",
              "    </tr>\n",
              "  </tbody>\n",
              "</table>\n",
              "</div>\n",
              "    <div class=\"colab-df-buttons\">\n",
              "\n",
              "  <div class=\"colab-df-container\">\n",
              "    <button class=\"colab-df-convert\" onclick=\"convertToInteractive('df-7e8477de-15fb-49ec-9a26-594e0b726017')\"\n",
              "            title=\"Convert this dataframe to an interactive table.\"\n",
              "            style=\"display:none;\">\n",
              "\n",
              "  <svg xmlns=\"http://www.w3.org/2000/svg\" height=\"24px\" viewBox=\"0 -960 960 960\">\n",
              "    <path d=\"M120-120v-720h720v720H120Zm60-500h600v-160H180v160Zm220 220h160v-160H400v160Zm0 220h160v-160H400v160ZM180-400h160v-160H180v160Zm440 0h160v-160H620v160ZM180-180h160v-160H180v160Zm440 0h160v-160H620v160Z\"/>\n",
              "  </svg>\n",
              "    </button>\n",
              "\n",
              "  <style>\n",
              "    .colab-df-container {\n",
              "      display:flex;\n",
              "      gap: 12px;\n",
              "    }\n",
              "\n",
              "    .colab-df-convert {\n",
              "      background-color: #E8F0FE;\n",
              "      border: none;\n",
              "      border-radius: 50%;\n",
              "      cursor: pointer;\n",
              "      display: none;\n",
              "      fill: #1967D2;\n",
              "      height: 32px;\n",
              "      padding: 0 0 0 0;\n",
              "      width: 32px;\n",
              "    }\n",
              "\n",
              "    .colab-df-convert:hover {\n",
              "      background-color: #E2EBFA;\n",
              "      box-shadow: 0px 1px 2px rgba(60, 64, 67, 0.3), 0px 1px 3px 1px rgba(60, 64, 67, 0.15);\n",
              "      fill: #174EA6;\n",
              "    }\n",
              "\n",
              "    .colab-df-buttons div {\n",
              "      margin-bottom: 4px;\n",
              "    }\n",
              "\n",
              "    [theme=dark] .colab-df-convert {\n",
              "      background-color: #3B4455;\n",
              "      fill: #D2E3FC;\n",
              "    }\n",
              "\n",
              "    [theme=dark] .colab-df-convert:hover {\n",
              "      background-color: #434B5C;\n",
              "      box-shadow: 0px 1px 3px 1px rgba(0, 0, 0, 0.15);\n",
              "      filter: drop-shadow(0px 1px 2px rgba(0, 0, 0, 0.3));\n",
              "      fill: #FFFFFF;\n",
              "    }\n",
              "  </style>\n",
              "\n",
              "    <script>\n",
              "      const buttonEl =\n",
              "        document.querySelector('#df-7e8477de-15fb-49ec-9a26-594e0b726017 button.colab-df-convert');\n",
              "      buttonEl.style.display =\n",
              "        google.colab.kernel.accessAllowed ? 'block' : 'none';\n",
              "\n",
              "      async function convertToInteractive(key) {\n",
              "        const element = document.querySelector('#df-7e8477de-15fb-49ec-9a26-594e0b726017');\n",
              "        const dataTable =\n",
              "          await google.colab.kernel.invokeFunction('convertToInteractive',\n",
              "                                                    [key], {});\n",
              "        if (!dataTable) return;\n",
              "\n",
              "        const docLinkHtml = 'Like what you see? Visit the ' +\n",
              "          '<a target=\"_blank\" href=https://colab.research.google.com/notebooks/data_table.ipynb>data table notebook</a>'\n",
              "          + ' to learn more about interactive tables.';\n",
              "        element.innerHTML = '';\n",
              "        dataTable['output_type'] = 'display_data';\n",
              "        await google.colab.output.renderOutput(dataTable, element);\n",
              "        const docLink = document.createElement('div');\n",
              "        docLink.innerHTML = docLinkHtml;\n",
              "        element.appendChild(docLink);\n",
              "      }\n",
              "    </script>\n",
              "  </div>\n",
              "\n",
              "\n",
              "<div id=\"df-695ff451-580a-410a-ad89-0b0b8a991f2a\">\n",
              "  <button class=\"colab-df-quickchart\" onclick=\"quickchart('df-695ff451-580a-410a-ad89-0b0b8a991f2a')\"\n",
              "            title=\"Suggest charts\"\n",
              "            style=\"display:none;\">\n",
              "\n",
              "<svg xmlns=\"http://www.w3.org/2000/svg\" height=\"24px\"viewBox=\"0 0 24 24\"\n",
              "     width=\"24px\">\n",
              "    <g>\n",
              "        <path d=\"M19 3H5c-1.1 0-2 .9-2 2v14c0 1.1.9 2 2 2h14c1.1 0 2-.9 2-2V5c0-1.1-.9-2-2-2zM9 17H7v-7h2v7zm4 0h-2V7h2v10zm4 0h-2v-4h2v4z\"/>\n",
              "    </g>\n",
              "</svg>\n",
              "  </button>\n",
              "\n",
              "<style>\n",
              "  .colab-df-quickchart {\n",
              "      --bg-color: #E8F0FE;\n",
              "      --fill-color: #1967D2;\n",
              "      --hover-bg-color: #E2EBFA;\n",
              "      --hover-fill-color: #174EA6;\n",
              "      --disabled-fill-color: #AAA;\n",
              "      --disabled-bg-color: #DDD;\n",
              "  }\n",
              "\n",
              "  [theme=dark] .colab-df-quickchart {\n",
              "      --bg-color: #3B4455;\n",
              "      --fill-color: #D2E3FC;\n",
              "      --hover-bg-color: #434B5C;\n",
              "      --hover-fill-color: #FFFFFF;\n",
              "      --disabled-bg-color: #3B4455;\n",
              "      --disabled-fill-color: #666;\n",
              "  }\n",
              "\n",
              "  .colab-df-quickchart {\n",
              "    background-color: var(--bg-color);\n",
              "    border: none;\n",
              "    border-radius: 50%;\n",
              "    cursor: pointer;\n",
              "    display: none;\n",
              "    fill: var(--fill-color);\n",
              "    height: 32px;\n",
              "    padding: 0;\n",
              "    width: 32px;\n",
              "  }\n",
              "\n",
              "  .colab-df-quickchart:hover {\n",
              "    background-color: var(--hover-bg-color);\n",
              "    box-shadow: 0 1px 2px rgba(60, 64, 67, 0.3), 0 1px 3px 1px rgba(60, 64, 67, 0.15);\n",
              "    fill: var(--button-hover-fill-color);\n",
              "  }\n",
              "\n",
              "  .colab-df-quickchart-complete:disabled,\n",
              "  .colab-df-quickchart-complete:disabled:hover {\n",
              "    background-color: var(--disabled-bg-color);\n",
              "    fill: var(--disabled-fill-color);\n",
              "    box-shadow: none;\n",
              "  }\n",
              "\n",
              "  .colab-df-spinner {\n",
              "    border: 2px solid var(--fill-color);\n",
              "    border-color: transparent;\n",
              "    border-bottom-color: var(--fill-color);\n",
              "    animation:\n",
              "      spin 1s steps(1) infinite;\n",
              "  }\n",
              "\n",
              "  @keyframes spin {\n",
              "    0% {\n",
              "      border-color: transparent;\n",
              "      border-bottom-color: var(--fill-color);\n",
              "      border-left-color: var(--fill-color);\n",
              "    }\n",
              "    20% {\n",
              "      border-color: transparent;\n",
              "      border-left-color: var(--fill-color);\n",
              "      border-top-color: var(--fill-color);\n",
              "    }\n",
              "    30% {\n",
              "      border-color: transparent;\n",
              "      border-left-color: var(--fill-color);\n",
              "      border-top-color: var(--fill-color);\n",
              "      border-right-color: var(--fill-color);\n",
              "    }\n",
              "    40% {\n",
              "      border-color: transparent;\n",
              "      border-right-color: var(--fill-color);\n",
              "      border-top-color: var(--fill-color);\n",
              "    }\n",
              "    60% {\n",
              "      border-color: transparent;\n",
              "      border-right-color: var(--fill-color);\n",
              "    }\n",
              "    80% {\n",
              "      border-color: transparent;\n",
              "      border-right-color: var(--fill-color);\n",
              "      border-bottom-color: var(--fill-color);\n",
              "    }\n",
              "    90% {\n",
              "      border-color: transparent;\n",
              "      border-bottom-color: var(--fill-color);\n",
              "    }\n",
              "  }\n",
              "</style>\n",
              "\n",
              "  <script>\n",
              "    async function quickchart(key) {\n",
              "      const quickchartButtonEl =\n",
              "        document.querySelector('#' + key + ' button');\n",
              "      quickchartButtonEl.disabled = true;  // To prevent multiple clicks.\n",
              "      quickchartButtonEl.classList.add('colab-df-spinner');\n",
              "      try {\n",
              "        const charts = await google.colab.kernel.invokeFunction(\n",
              "            'suggestCharts', [key], {});\n",
              "      } catch (error) {\n",
              "        console.error('Error during call to suggestCharts:', error);\n",
              "      }\n",
              "      quickchartButtonEl.classList.remove('colab-df-spinner');\n",
              "      quickchartButtonEl.classList.add('colab-df-quickchart-complete');\n",
              "    }\n",
              "    (() => {\n",
              "      let quickchartButtonEl =\n",
              "        document.querySelector('#df-695ff451-580a-410a-ad89-0b0b8a991f2a button');\n",
              "      quickchartButtonEl.style.display =\n",
              "        google.colab.kernel.accessAllowed ? 'block' : 'none';\n",
              "    })();\n",
              "  </script>\n",
              "</div>\n",
              "\n",
              "    </div>\n",
              "  </div>\n"
            ],
            "application/vnd.google.colaboratory.intrinsic+json": {
              "type": "dataframe",
              "summary": "{\n  \"name\": \"#Show Result\",\n  \"rows\": 3,\n  \"fields\": [\n    {\n      \"column\": 0,\n      \"properties\": {\n        \"dtype\": \"string\",\n        \"num_unique_values\": 3,\n        \"samples\": [\n          \"BHA Connects\",\n          \"\\u0967,\\u0966\\u0966\\u0966+\",\n          1350\n        ],\n        \"semantic_type\": \"\",\n        \"description\": \"\"\n      }\n    },\n    {\n      \"column\": 1,\n      \"properties\": {\n        \"dtype\": \"string\",\n        \"num_unique_values\": 3,\n        \"samples\": [\n          \"Openreads\",\n          \"\\u096b,\\u0966\\u0966\\u0966+\",\n          9519\n        ],\n        \"semantic_type\": \"\",\n        \"description\": \"\"\n      }\n    },\n    {\n      \"column\": 2,\n      \"properties\": {\n        \"dtype\": \"string\",\n        \"num_unique_values\": 3,\n        \"samples\": [\n          \"Khalti Digital Wallet (Nepal)\",\n          \"\\u0967,\\u0966\\u0966\\u0966,\\u0966\\u0966\\u0966+\",\n          4539525\n        ],\n        \"semantic_type\": \"\",\n        \"description\": \"\"\n      }\n    },\n    {\n      \"column\": 3,\n      \"properties\": {\n        \"dtype\": \"string\",\n        \"num_unique_values\": 3,\n        \"samples\": [\n          \"Buddha Air\",\n          \"\\u0967\\u0966\\u0966,\\u0966\\u0966\\u0966+\",\n          313720\n        ],\n        \"semantic_type\": \"\",\n        \"description\": \"\"\n      }\n    },\n    {\n      \"column\": 4,\n      \"properties\": {\n        \"dtype\": \"string\",\n        \"num_unique_values\": 3,\n        \"samples\": [\n          \"eSewa - Mobile Wallet (Nepal)\",\n          \"\\u096b,\\u0966\\u0966\\u0966,\\u0966\\u0966\\u0966+\",\n          9594614\n        ],\n        \"semantic_type\": \"\",\n        \"description\": \"\"\n      }\n    },\n    {\n      \"column\": 5,\n      \"properties\": {\n        \"dtype\": \"string\",\n        \"num_unique_values\": 3,\n        \"samples\": [\n          \"IME Pay- Mobile Digital Wallet\",\n          \"\\u0967,\\u0966\\u0966\\u0966,\\u0966\\u0966\\u0966+\",\n          4183728\n        ],\n        \"semantic_type\": \"\",\n        \"description\": \"\"\n      }\n    },\n    {\n      \"column\": 6,\n      \"properties\": {\n        \"dtype\": \"string\",\n        \"num_unique_values\": 3,\n        \"samples\": [\n          \"MyPay\",\n          \"\\u096b\\u0966\\u0966,\\u0966\\u0966\\u0966+\",\n          743864\n        ],\n        \"semantic_type\": \"\",\n        \"description\": \"\"\n      }\n    }\n  ]\n}"
            }
          },
          "metadata": {},
          "execution_count": 49
        }
      ]
    },
    {
      "cell_type": "markdown",
      "source": [
        "# Export to Google Drive"
      ],
      "metadata": {
        "id": "HXwJtfzdUEVs"
      }
    },
    {
      "cell_type": "code",
      "source": [
        "#from google.colab import drive\n",
        "drive.mount('/content/drive')\n",
        "#Mount Google Drive"
      ],
      "metadata": {
        "id": "aDWAloFGQ4jC",
        "colab": {
          "base_uri": "https://localhost:8080/",
          "height": 297
        },
        "outputId": "f2cb428f-154a-4d87-f53c-f67ac4f959e1"
      },
      "execution_count": 51,
      "outputs": [
        {
          "output_type": "error",
          "ename": "NameError",
          "evalue": "name 'drive' is not defined",
          "traceback": [
            "\u001b[0;31m---------------------------------------------------------------------------\u001b[0m",
            "\u001b[0;31mNameError\u001b[0m                                 Traceback (most recent call last)",
            "\u001b[0;32m<ipython-input-51-71aafdfe0d80>\u001b[0m in \u001b[0;36m<cell line: 2>\u001b[0;34m()\u001b[0m\n\u001b[1;32m      1\u001b[0m \u001b[0;31m#from google.colab import drive\u001b[0m\u001b[0;34m\u001b[0m\u001b[0;34m\u001b[0m\u001b[0m\n\u001b[0;32m----> 2\u001b[0;31m \u001b[0mdrive\u001b[0m\u001b[0;34m.\u001b[0m\u001b[0mmount\u001b[0m\u001b[0;34m(\u001b[0m\u001b[0;34m'/content/drive'\u001b[0m\u001b[0;34m)\u001b[0m\u001b[0;34m\u001b[0m\u001b[0;34m\u001b[0m\u001b[0m\n\u001b[0m\u001b[1;32m      3\u001b[0m \u001b[0;31m#Mount Google Drive\u001b[0m\u001b[0;34m\u001b[0m\u001b[0;34m\u001b[0m\u001b[0m\n",
            "\u001b[0;31mNameError\u001b[0m: name 'drive' is not defined"
          ]
        }
      ]
    },
    {
      "cell_type": "code",
      "source": [
        "#df.to_csv('drive/MyDrive/Jitendra/eSewa_Playstore_Details.csv')\n",
        "#export to Gdrive"
      ],
      "metadata": {
        "id": "26LOL21B0jIy"
      },
      "execution_count": null,
      "outputs": []
    },
    {
      "cell_type": "code",
      "source": [
        "# Mount Google Drive (authentication required only once)\n",
        "drive.mount('/content/drive')\n",
        "\n",
        "# Define path to Jitendra folder in your Google Drive\n",
        "jitendra_folder_path = '/content/drive/My Drive/Jitendra'\n",
        "\n",
        "# Create filename with today's date\n",
        "today = pd.Timestamp().strftime('%Y-%m-%d')\n",
        "filename = f'app_installs_real.csv'\n",
        "\n",
        "# Check if the file already exists\n",
        "file_exists = os.path.exists(os.path.join(jitendra_folder_path, filename))\n",
        "\n",
        "if not file_exists:\n",
        "  # Create DataFrame with 'Date' column\n",
        "  df_to_save = pd.DataFrame(columns=['Date'] + list(df.columns))\n",
        "else:\n",
        "  # Read existing data from CSV\n",
        "  df_to_save = pd.read_csv(os.path.join(jitendra_folder_path, filename), index_col=0)\n",
        "\n",
        "# Add 'Date' column to the DataFrame if not existing\n",
        "if 'Date' not in df_to_save.columns:\n",
        "  df_to_save['Date'] = pd.to_datetime('today')\n",
        "\n",
        "# Add new data as a row if not existing for today's date\n",
        "if today not in df_to_save.index:\n",
        "  new_row = pd.Series({'Date': today} | df.iloc[0])\n",
        "  df_to_save = df_to_save.append(new_row.to_frame().T)\n",
        "\n",
        "# Save the DataFrame to CSV in Jitendra folder\n",
        "df_to_save.to_csv(os.path.join(jitendra_folder_path, filename))\n",
        "\n",
        "# Show Result (optional)\n",
        "print(df_to_save)"
      ],
      "metadata": {
        "id": "Z1wQKC8TFiMw"
      },
      "execution_count": null,
      "outputs": []
    }
  ]
}